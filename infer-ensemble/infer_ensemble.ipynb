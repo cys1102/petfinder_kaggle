{
 "cells": [
  {
   "cell_type": "code",
   "execution_count": null,
   "metadata": {},
   "outputs": [],
   "source": [
    "!pip install ../input/pathfinder/python_box-5.4.1-py3-none-any.whl\n",
    "!pip install ../input/timm0412/timm-0.4.12-py3-none-any.whl"
   ]
  },
  {
   "cell_type": "code",
   "execution_count": null,
   "metadata": {},
   "outputs": [],
   "source": [
    "import os\n",
    "import gc\n",
    "import sys\n",
    "import warnings\n",
    "import numpy as np\n",
    "import pandas as pd\n",
    "from box import Box\n",
    "from timm import create_model\n",
    "import cv2\n",
    "\n",
    "import torch\n",
    "import torch.nn as nn\n",
    "from torchvision.io import read_image\n",
    "import torchvision.transforms as T\n",
    "from torch.utils.data import DataLoader, Dataset\n",
    "import pytorch_lightning as pl\n",
    "\n",
    "warnings.filterwarnings(\"ignore\")"
   ]
  },
  {
   "cell_type": "code",
   "execution_count": null,
   "metadata": {},
   "outputs": [],
   "source": [
    "config = {'seed': 2021,\n",
    "          'root': '/kaggle/input/petfinder-pawpularity-score/', \n",
    "          'transform':{\n",
    "              'name': 'get_default_transforms',\n",
    "              'image_size': 224\n",
    "          },\n",
    "          'dataloader':{\n",
    "              'batch_size': 64,\n",
    "              'shuffle': False,\n",
    "              'num_workers': 4,\n",
    "              'pin_memory': True,\n",
    "              'drop_last': False,\n",
    "          },\n",
    "          'model':{\n",
    "              'name': 'swin_large_patch4_window7_224_in22k',\n",
    "              'freeze_backbone': False,\n",
    "              'output_dim': 1\n",
    "          },\n",
    "          'trainer':{\n",
    "              'gpus': 1\n",
    "          },\n",
    "          'test':{\n",
    "              'n_fold': 5,\n",
    "              'trn_folds': [0, 1, 2, 3, 4],\n",
    "              'tta_steps': 5\n",
    "          }\n",
    "}\n",
    "\n",
    "config = Box(config)"
   ]
  },
  {
   "cell_type": "code",
   "execution_count": null,
   "metadata": {},
   "outputs": [],
   "source": [
    "class PetfinderDataset(Dataset):\n",
    "    def __init__(self, df):\n",
    "        self._X = df[\"Id\"].values\n",
    "        self.transform = get_default_transforms()\n",
    "\n",
    "    def __len__(self):\n",
    "        return len(self._X)\n",
    "\n",
    "    def __getitem__(self, idx):\n",
    "        image_path = self._X[idx]\n",
    "        image = read_image(image_path)\n",
    "        image = self.transform(image)\n",
    "        return image"
   ]
  },
  {
   "cell_type": "code",
   "execution_count": null,
   "metadata": {},
   "outputs": [],
   "source": [
    "def get_default_transforms():\n",
    "    transform = T.Compose(\n",
    "            [\n",
    "                T.Resize([config.transform.image_size, config.transform.image_size]),\n",
    "                T.ConvertImageDtype(torch.float),\n",
    "                T.Normalize(mean=[0.485, 0.456, 0.406], \n",
    "                            std=[0.229, 0.224, 0.225]),\n",
    "            ]\n",
    "        )\n",
    "    return transform"
   ]
  },
  {
   "cell_type": "code",
   "execution_count": null,
   "metadata": {},
   "outputs": [],
   "source": [
    "class Model(pl.LightningModule):\n",
    "    def __init__(self, cfg):\n",
    "        super().__init__()\n",
    "        self.cfg = cfg\n",
    "        self.__build_model()\n",
    "        self.save_hyperparameters(cfg)\n",
    "\n",
    "    def __build_model(self):\n",
    "        self.backbone = create_model(\n",
    "            config.model.name, pretrained=False, num_classes=0, in_chans=3\n",
    "        )\n",
    "        num_features = self.backbone.num_features\n",
    "        self.fc = nn.Sequential(\n",
    "            nn.Linear(num_features, 384),\n",
    "            nn.Dropout(0.1),\n",
    "            nn.Linear(384, 96), \n",
    "            nn.Linear(96, config.model.output_dim)\n",
    "        )\n",
    "        \n",
    "    def forward(self, x):\n",
    "        f = self.backbone(x)\n",
    "        out = self.fc(f)\n",
    "        return out\n",
    "\n",
    "    def predict_step(self, batch, batch_idx):\n",
    "        x = batch\n",
    "        out = self(x)\n",
    "        return out.sigmoid()"
   ]
  },
  {
   "cell_type": "code",
   "execution_count": null,
   "metadata": {},
   "outputs": [],
   "source": [
    "def get_weights_path_224(fold):\n",
    "    path = \"../input/v4drop01\"\n",
    "    return os.path.join(path, f\"best_loss_v{fold}.ckpt\")\n",
    "\n",
    "def get_weights_path_384(fold):\n",
    "    path = \"../input/swin384drop01\"\n",
    "    return os.path.join(path, f\"best_loss_v{fold}.ckpt\")"
   ]
  },
  {
   "cell_type": "code",
   "execution_count": null,
   "metadata": {},
   "outputs": [],
   "source": [
    "df = pd.read_csv(os.path.join(config.root, \"test.csv\"))\n",
    "df[\"Id\"] = df[\"Id\"].apply(lambda x: os.path.join(config.root, \"test\", x + \".jpg\"))"
   ]
  },
  {
   "cell_type": "code",
   "execution_count": null,
   "metadata": {},
   "outputs": [],
   "source": [
    "models = ['swin_large_patch4_window7_224_in22k',\n",
    "             'swin_large_patch4_window12_384_in22k']\n",
    "image_sizes = [224, 384]\n",
    "opt_weights=[0.095, 0.095, 0.095, 0.095, 0.095, 0.105, 0.105, 0.105, 0.105, 0.105]\n",
    "\n",
    "def get_fold_predictions(fold):\n",
    "    tta_preds = []\n",
    "    for m, img_size in zip(models, image_sizes):\n",
    "        config.model.name = m\n",
    "        config.transform.image_size = img_size\n",
    "        if img_size == 224:\n",
    "            weight = get_weights_path_224(fold)\n",
    "        else:\n",
    "            weight = get_weights_path_384(fold)\n",
    "        model = Model.load_from_checkpoint(checkpoint_path=weight, cfg=config)\n",
    "        trainer = pl.Trainer(**config.trainer)\n",
    "        \n",
    "        for tta in range(config.test.tta_steps):\n",
    "            ds = PetfinderDataset(df)\n",
    "            dl = DataLoader(ds, **config.dataloader)\n",
    "            predictions = trainer.predict(model, dl)\n",
    "            tta_preds.append(torch.cat([x * 100 for x in predictions]).detach().cpu().numpy())\n",
    "        \n",
    "        del model; gc.collect()\n",
    "        torch.cuda.empty_cache()\n",
    "        \n",
    "#     predictions = np.mean(np.column_stack(tta_preds), axis=1)\n",
    "    predictions = np.average(np.column_stack(tta_preds), axis=1, weights=opt_weights)\n",
    "    return predictions"
   ]
  },
  {
   "cell_type": "code",
   "execution_count": null,
   "metadata": {},
   "outputs": [],
   "source": [
    "fold_predictions = []\n",
    "for fold in config.test.trn_folds:\n",
    "    preds = get_fold_predictions(fold)\n",
    "    fold_predictions.append(preds)\n",
    "    \n",
    "final_predictions = np.mean(np.column_stack(fold_predictions), axis=1)"
   ]
  },
  {
   "cell_type": "code",
   "execution_count": null,
   "metadata": {},
   "outputs": [],
   "source": [
    "submission = pd.read_csv(\"../input/petfinder-pawpularity-score/sample_submission.csv\")\n",
    "submission[\"Pawpularity\"] = final_predictions\n",
    "submission.to_csv(\"submission.csv\", index=False)\n",
    "submission.head()"
   ]
  }
 ],
 "metadata": {
  "language_info": {
   "name": "python"
  },
  "orig_nbformat": 4
 },
 "nbformat": 4,
 "nbformat_minor": 2
}
